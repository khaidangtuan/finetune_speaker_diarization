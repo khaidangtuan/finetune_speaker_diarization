{
 "cells": [
  {
   "cell_type": "code",
   "execution_count": 11,
   "metadata": {
    "colab": {
     "base_uri": "https://localhost:8080/"
    },
    "id": "RkPGWEoBKBZ9",
    "outputId": "80530678-2ecf-4084-dfce-0dc14352d8d6"
   },
   "outputs": [
    {
     "name": "stdout",
     "output_type": "stream",
     "text": [
      "'VOC.SpeakerDiarization.mini' found in /finetune/diarization_dataset/pyannote/database.yml does not define the 'scope' of speaker labels (file, database, or global). Setting it to 'file'.\n"
     ]
    }
   ],
   "source": [
    "from pyannote.database import registry, FileFinder\n",
    "\n",
    "registry.load_database(\"diarization_dataset/pyannote/database.yml\")\n",
    "dataset = registry.get_protocol('VOC.SpeakerDiarization.mini',\n",
    "                                preprocessors={\"audio\": FileFinder()})"
   ]
  },
  {
   "cell_type": "code",
   "execution_count": 12,
   "metadata": {
    "id": "CXPAQ1HCNJxq"
   },
   "outputs": [],
   "source": [
    "from pyannote.audio import Model\n",
    "from pyannote.audio import Pipeline\n",
    "from pyannote.audio.tasks import Segmentation"
   ]
  },
  {
   "cell_type": "markdown",
   "metadata": {
    "id": "dmUOTd0Px9gZ"
   },
   "source": [
    "### Check pipeline"
   ]
  },
  {
   "cell_type": "code",
   "execution_count": 8,
   "metadata": {
    "id": "vX_VvAw9yJKJ"
   },
   "outputs": [],
   "source": [
    "# Load pipeline\n",
    "pretrained_pipeline = Pipeline.from_pretrained('diarization_model/config.yaml')"
   ]
  },
  {
   "cell_type": "code",
   "execution_count": 9,
   "metadata": {
    "colab": {
     "base_uri": "https://localhost:8080/"
    },
    "id": "E6ERjMx01BhI",
    "outputId": "7a15810e-44ad-4dee-dfb5-9e8847f30625"
   },
   "outputs": [
    {
     "name": "stdout",
     "output_type": "stream",
     "text": [
      "<pyannote.database.protocol.protocol.ProtocolFile object at 0x7f0af6b29c60>\n",
      "<pyannote.database.protocol.protocol.ProtocolFile object at 0x7f0af6b19db0>\n",
      "<pyannote.database.protocol.protocol.ProtocolFile object at 0x7f0af6b0bdc0>\n"
     ]
    }
   ],
   "source": [
    "for file in dataset.test():\n",
    "  print(file)"
   ]
  },
  {
   "cell_type": "code",
   "execution_count": 13,
   "metadata": {
    "colab": {
     "base_uri": "https://localhost:8080/"
    },
    "id": "Kqdle2qW0Zes",
    "outputId": "486b57eb-038a-47fe-b211-a431193b9730"
   },
   "outputs": [
    {
     "name": "stderr",
     "output_type": "stream",
     "text": [
      "3it [02:40, 53.64s/it]"
     ]
    },
    {
     "name": "stdout",
     "output_type": "stream",
     "text": [
      "The pretrained pipeline reaches a Diarization Error Rate (DER) of 17.2% on VOC.SpeakerDiarization.mini test set.\n"
     ]
    },
    {
     "name": "stderr",
     "output_type": "stream",
     "text": [
      "\n"
     ]
    }
   ],
   "source": [
    "# Validate the pipeline on test set\n",
    "from tqdm import tqdm\n",
    "from pyannote.metrics.diarization import DiarizationErrorRate\n",
    "metric = DiarizationErrorRate()\n",
    "\n",
    "for file in tqdm(dataset.test()):\n",
    "    # apply pretrained pipeline\n",
    "    file[\"pretrained pipeline\"] = pretrained_pipeline(file)\n",
    "\n",
    "    # evaluate its performance\n",
    "    metric(file[\"annotation\"], file[\"pretrained pipeline\"], uem=file[\"annotated\"])\n",
    "\n",
    "print(f\"The pretrained pipeline reaches a Diarization Error Rate (DER) of {100 * abs(metric):.1f}% on {dataset.name} test set.\")"
   ]
  },
  {
   "cell_type": "markdown",
   "metadata": {
    "id": "FEY3h5l3yE2L"
   },
   "source": [
    "### Fine-tune Segmentation"
   ]
  },
  {
   "cell_type": "code",
   "execution_count": 15,
   "metadata": {
    "colab": {
     "base_uri": "https://localhost:8080/"
    },
    "id": "O8ra5wrVNdE2",
    "outputId": "4abd6f9a-7db5-467d-cca1-2a41e63bb149"
   },
   "outputs": [
    {
     "name": "stdout",
     "output_type": "stream",
     "text": [
      "Protocol VOC.SpeakerDiarization.mini does not precompute the output of torchaudio.info(): adding a 'torchaudio.info' preprocessor for you to speed up dataloaders. See pyannote.database documentation on how to do that yourself.\n"
     ]
    }
   ],
   "source": [
    "# Load model\n",
    "model = Model.from_pretrained('diarization_model/segmentation-3.0.bin')\n",
    "\n",
    "# Set up for fine-tuning on training set\n",
    "task = Segmentation(\n",
    "    dataset,\n",
    "    duration=model.specifications.duration,\n",
    "    max_num_speakers=len(model.specifications.classes),\n",
    "    batch_size=32,\n",
    "    num_workers=2,\n",
    "    loss=\"bce\",\n",
    "    vad_loss=\"bce\"\n",
    ")\n",
    "model.task = task\n",
    "model.prepare_data()\n",
    "model.setup()"
   ]
  },
  {
   "cell_type": "code",
   "execution_count": 16,
   "metadata": {
    "colab": {
     "base_uri": "https://localhost:8080/",
     "height": 501,
     "referenced_widgets": [
      "9d44f4b78cce48f6a9eda71798f9528f",
      "cc51654c5a8a428d98e2984ca5838c75"
     ]
    },
    "id": "WnlF-p1SNb62",
    "outputId": "e6e7eb4c-3525-4afb-a41c-96c3f358acae"
   },
   "outputs": [
    {
     "name": "stderr",
     "output_type": "stream",
     "text": [
      "GPU available: False, used: False\n",
      "TPU available: False, using: 0 TPU cores\n",
      "HPU available: False, using: 0 HPUs\n",
      "Missing logger folder: /finetune/lightning_logs\n"
     ]
    },
    {
     "data": {
      "text/html": [
       "<pre style=\"white-space:pre;overflow-x:auto;line-height:normal;font-family:Menlo,'DejaVu Sans Mono',consolas,'Courier New',monospace\">┏━━━┳━━━━━━━━━━━━━━━━━━━┳━━━━━━━━━━━━━━━━━━┳━━━━━━━━┳━━━━━━━┳━━━━━━━━━━━━━━━━┳━━━━━━━━━━━━━━━━━━━━━━━━━━━━━━━━━━━━┓\n",
       "┃<span style=\"color: #800080; text-decoration-color: #800080; font-weight: bold\">   </span>┃<span style=\"color: #800080; text-decoration-color: #800080; font-weight: bold\"> Name              </span>┃<span style=\"color: #800080; text-decoration-color: #800080; font-weight: bold\"> Type             </span>┃<span style=\"color: #800080; text-decoration-color: #800080; font-weight: bold\"> Params </span>┃<span style=\"color: #800080; text-decoration-color: #800080; font-weight: bold\"> Mode  </span>┃<span style=\"color: #800080; text-decoration-color: #800080; font-weight: bold\">       In sizes </span>┃<span style=\"color: #800080; text-decoration-color: #800080; font-weight: bold\">                          Out sizes </span>┃\n",
       "┡━━━╇━━━━━━━━━━━━━━━━━━━╇━━━━━━━━━━━━━━━━━━╇━━━━━━━━╇━━━━━━━╇━━━━━━━━━━━━━━━━╇━━━━━━━━━━━━━━━━━━━━━━━━━━━━━━━━━━━━┩\n",
       "│<span style=\"color: #7f7f7f; text-decoration-color: #7f7f7f\"> 0 </span>│ sincnet           │ SincNet          │ 42.6 K │ train │<span style=\"color: #c0c0c0; text-decoration-color: #c0c0c0\"> [1, 1, 160000] </span>│<span style=\"color: #c0c0c0; text-decoration-color: #c0c0c0\">                       [1, 60, 589] </span>│\n",
       "│<span style=\"color: #7f7f7f; text-decoration-color: #7f7f7f\"> 1 </span>│ lstm              │ LSTM             │  1.4 M │ train │<span style=\"color: #c0c0c0; text-decoration-color: #c0c0c0\">   [1, 589, 60] </span>│<span style=\"color: #c0c0c0; text-decoration-color: #c0c0c0\">  [[1, 589, 256], [[8, 1, 128], [8, </span>│\n",
       "│<span style=\"color: #7f7f7f; text-decoration-color: #7f7f7f\">   </span>│                   │                  │        │       │<span style=\"color: #c0c0c0; text-decoration-color: #c0c0c0\">                </span>│<span style=\"color: #c0c0c0; text-decoration-color: #c0c0c0\">                          1, 128]]] </span>│\n",
       "│<span style=\"color: #7f7f7f; text-decoration-color: #7f7f7f\"> 2 </span>│ linear            │ ModuleList       │ 49.4 K │ train │<span style=\"color: #c0c0c0; text-decoration-color: #c0c0c0\">              ? </span>│<span style=\"color: #c0c0c0; text-decoration-color: #c0c0c0\">                                  ? </span>│\n",
       "│<span style=\"color: #7f7f7f; text-decoration-color: #7f7f7f\"> 3 </span>│ classifier        │ Linear           │    387 │ train │<span style=\"color: #c0c0c0; text-decoration-color: #c0c0c0\">  [1, 589, 128] </span>│<span style=\"color: #c0c0c0; text-decoration-color: #c0c0c0\">                        [1, 589, 3] </span>│\n",
       "│<span style=\"color: #7f7f7f; text-decoration-color: #7f7f7f\"> 4 </span>│ activation        │ Sigmoid          │      0 │ train │<span style=\"color: #c0c0c0; text-decoration-color: #c0c0c0\">    [1, 589, 3] </span>│<span style=\"color: #c0c0c0; text-decoration-color: #c0c0c0\">                        [1, 589, 3] </span>│\n",
       "│<span style=\"color: #7f7f7f; text-decoration-color: #7f7f7f\"> 5 </span>│ validation_metric │ MetricCollection │      0 │ train │<span style=\"color: #c0c0c0; text-decoration-color: #c0c0c0\">              ? </span>│<span style=\"color: #c0c0c0; text-decoration-color: #c0c0c0\">                                  ? </span>│\n",
       "└───┴───────────────────┴──────────────────┴────────┴───────┴────────────────┴────────────────────────────────────┘\n",
       "</pre>\n"
      ],
      "text/plain": [
       "┏━━━┳━━━━━━━━━━━━━━━━━━━┳━━━━━━━━━━━━━━━━━━┳━━━━━━━━┳━━━━━━━┳━━━━━━━━━━━━━━━━┳━━━━━━━━━━━━━━━━━━━━━━━━━━━━━━━━━━━━┓\n",
       "┃\u001b[1;35m \u001b[0m\u001b[1;35m \u001b[0m\u001b[1;35m \u001b[0m┃\u001b[1;35m \u001b[0m\u001b[1;35mName             \u001b[0m\u001b[1;35m \u001b[0m┃\u001b[1;35m \u001b[0m\u001b[1;35mType            \u001b[0m\u001b[1;35m \u001b[0m┃\u001b[1;35m \u001b[0m\u001b[1;35mParams\u001b[0m\u001b[1;35m \u001b[0m┃\u001b[1;35m \u001b[0m\u001b[1;35mMode \u001b[0m\u001b[1;35m \u001b[0m┃\u001b[1;35m \u001b[0m\u001b[1;35m      In sizes\u001b[0m\u001b[1;35m \u001b[0m┃\u001b[1;35m \u001b[0m\u001b[1;35m                         Out sizes\u001b[0m\u001b[1;35m \u001b[0m┃\n",
       "┡━━━╇━━━━━━━━━━━━━━━━━━━╇━━━━━━━━━━━━━━━━━━╇━━━━━━━━╇━━━━━━━╇━━━━━━━━━━━━━━━━╇━━━━━━━━━━━━━━━━━━━━━━━━━━━━━━━━━━━━┩\n",
       "│\u001b[2m \u001b[0m\u001b[2m0\u001b[0m\u001b[2m \u001b[0m│ sincnet           │ SincNet          │ 42.6 K │ train │\u001b[37m \u001b[0m\u001b[37m[1, 1, 160000]\u001b[0m\u001b[37m \u001b[0m│\u001b[37m \u001b[0m\u001b[37m                      [1, 60, 589]\u001b[0m\u001b[37m \u001b[0m│\n",
       "│\u001b[2m \u001b[0m\u001b[2m1\u001b[0m\u001b[2m \u001b[0m│ lstm              │ LSTM             │  1.4 M │ train │\u001b[37m \u001b[0m\u001b[37m  [1, 589, 60]\u001b[0m\u001b[37m \u001b[0m│\u001b[37m \u001b[0m\u001b[37m [[1, 589, 256], [[8, 1, 128], [8,\u001b[0m\u001b[37m \u001b[0m│\n",
       "│\u001b[2m   \u001b[0m│                   │                  │        │       │\u001b[37m                \u001b[0m│\u001b[37m \u001b[0m\u001b[37m                         1, 128]]]\u001b[0m\u001b[37m \u001b[0m│\n",
       "│\u001b[2m \u001b[0m\u001b[2m2\u001b[0m\u001b[2m \u001b[0m│ linear            │ ModuleList       │ 49.4 K │ train │\u001b[37m \u001b[0m\u001b[37m             ?\u001b[0m\u001b[37m \u001b[0m│\u001b[37m \u001b[0m\u001b[37m                                 ?\u001b[0m\u001b[37m \u001b[0m│\n",
       "│\u001b[2m \u001b[0m\u001b[2m3\u001b[0m\u001b[2m \u001b[0m│ classifier        │ Linear           │    387 │ train │\u001b[37m \u001b[0m\u001b[37m [1, 589, 128]\u001b[0m\u001b[37m \u001b[0m│\u001b[37m \u001b[0m\u001b[37m                       [1, 589, 3]\u001b[0m\u001b[37m \u001b[0m│\n",
       "│\u001b[2m \u001b[0m\u001b[2m4\u001b[0m\u001b[2m \u001b[0m│ activation        │ Sigmoid          │      0 │ train │\u001b[37m \u001b[0m\u001b[37m   [1, 589, 3]\u001b[0m\u001b[37m \u001b[0m│\u001b[37m \u001b[0m\u001b[37m                       [1, 589, 3]\u001b[0m\u001b[37m \u001b[0m│\n",
       "│\u001b[2m \u001b[0m\u001b[2m5\u001b[0m\u001b[2m \u001b[0m│ validation_metric │ MetricCollection │      0 │ train │\u001b[37m \u001b[0m\u001b[37m             ?\u001b[0m\u001b[37m \u001b[0m│\u001b[37m \u001b[0m\u001b[37m                                 ?\u001b[0m\u001b[37m \u001b[0m│\n",
       "└───┴───────────────────┴──────────────────┴────────┴───────┴────────────────┴────────────────────────────────────┘\n"
      ]
     },
     "metadata": {},
     "output_type": "display_data"
    },
    {
     "data": {
      "text/html": [
       "<pre style=\"white-space:pre;overflow-x:auto;line-height:normal;font-family:Menlo,'DejaVu Sans Mono',consolas,'Courier New',monospace\"><span style=\"font-weight: bold\">Trainable params</span>: 1.5 M                                                                                            \n",
       "<span style=\"font-weight: bold\">Non-trainable params</span>: 0                                                                                            \n",
       "<span style=\"font-weight: bold\">Total params</span>: 1.5 M                                                                                                \n",
       "<span style=\"font-weight: bold\">Total estimated model params size (MB)</span>: 5                                                                          \n",
       "</pre>\n"
      ],
      "text/plain": [
       "\u001b[1mTrainable params\u001b[0m: 1.5 M                                                                                            \n",
       "\u001b[1mNon-trainable params\u001b[0m: 0                                                                                            \n",
       "\u001b[1mTotal params\u001b[0m: 1.5 M                                                                                                \n",
       "\u001b[1mTotal estimated model params size (MB)\u001b[0m: 5                                                                          \n"
      ]
     },
     "metadata": {},
     "output_type": "display_data"
    },
    {
     "name": "stderr",
     "output_type": "stream",
     "text": [
      "`Trainer.fit` stopped: `max_epochs=20` reached.\n"
     ]
    },
    {
     "data": {
      "text/html": [
       "<pre style=\"white-space:pre;overflow-x:auto;line-height:normal;font-family:Menlo,'DejaVu Sans Mono',consolas,'Courier New',monospace\"></pre>\n"
      ],
      "text/plain": []
     },
     "metadata": {},
     "output_type": "display_data"
    },
    {
     "data": {
      "text/html": [
       "<pre style=\"white-space:pre;overflow-x:auto;line-height:normal;font-family:Menlo,'DejaVu Sans Mono',consolas,'Courier New',monospace\">\n",
       "</pre>\n"
      ],
      "text/plain": [
       "\n"
      ]
     },
     "metadata": {},
     "output_type": "display_data"
    }
   ],
   "source": [
    "# train with lightning\n",
    "from types import MethodType\n",
    "from torch.optim import Adam\n",
    "from pytorch_lightning.callbacks import (\n",
    "    EarlyStopping,\n",
    "    ModelCheckpoint,\n",
    "    RichProgressBar,\n",
    ")\n",
    "\n",
    "# we use Adam optimizer with 1e-4 learning rate\n",
    "def configure_optimizers(self):\n",
    "    return Adam(self.parameters(), lr=1e-4)\n",
    "\n",
    "model.configure_optimizers = MethodType(configure_optimizers, model)\n",
    "\n",
    "# we monitor diarization error rate on the validation set\n",
    "# and use to keep the best checkpoint and stop early\n",
    "monitor, direction = task.val_monitor\n",
    "checkpoint = ModelCheckpoint(\n",
    "    monitor=monitor,\n",
    "    mode=direction,\n",
    "    save_top_k=1,\n",
    "    every_n_epochs=1,\n",
    "    save_last=False,\n",
    "    save_weights_only=False,\n",
    "    filename=\"{epoch}\",\n",
    "    verbose=False,\n",
    ")\n",
    "early_stopping = EarlyStopping(\n",
    "    monitor=monitor,\n",
    "    mode=direction,\n",
    "    min_delta=0.0,\n",
    "    patience=10,\n",
    "    strict=True,\n",
    "    verbose=False,\n",
    ")\n",
    "\n",
    "callbacks = [RichProgressBar(), checkpoint, early_stopping]\n",
    "\n",
    "# we train for at most 20 epochs (might be shorter in case of early stopping)\n",
    "from pytorch_lightning import Trainer\n",
    "trainer = Trainer(accelerator=\"auto\",\n",
    "                  callbacks=callbacks,\n",
    "                  max_epochs=20,\n",
    "                  gradient_clip_val=0.5)\n",
    "trainer.fit(model)"
   ]
  },
  {
   "cell_type": "code",
   "execution_count": 17,
   "metadata": {},
   "outputs": [
    {
     "data": {
      "text/plain": [
       "<pytorch_lightning.callbacks.model_checkpoint.ModelCheckpoint at 0x7f0af6b83010>"
      ]
     },
     "execution_count": 17,
     "metadata": {},
     "output_type": "execute_result"
    }
   ],
   "source": [
    "checkpoint"
   ]
  },
  {
   "cell_type": "code",
   "execution_count": 18,
   "metadata": {
    "id": "3xvPLcrnki6l"
   },
   "outputs": [],
   "source": [
    "# save path to the best checkpoint for later use\n",
    "finetuned_model = checkpoint.best_model_path"
   ]
  },
  {
   "cell_type": "code",
   "execution_count": null,
   "metadata": {},
   "outputs": [],
   "source": [
    "files.download(finetuned_model)"
   ]
  },
  {
   "cell_type": "markdown",
   "metadata": {
    "id": "rJYgayrn8SE8"
   },
   "source": [
    "### Optimize hyper-params of pipeline"
   ]
  },
  {
   "cell_type": "code",
   "execution_count": 19,
   "metadata": {},
   "outputs": [
    {
     "data": {
      "text/plain": [
       "{'segmentation': {'min_duration_off': 0.0},\n",
       " 'clustering': {'method': 'centroid',\n",
       "  'min_cluster_size': 12,\n",
       "  'threshold': 0.7045654963945799}}"
      ]
     },
     "execution_count": 19,
     "metadata": {},
     "output_type": "execute_result"
    }
   ],
   "source": [
    "pretrained_hyperparameters = pretrained_pipeline.parameters(instantiated=True) # as in config.yaml\n",
    "pretrained_hyperparameters"
   ]
  },
  {
   "cell_type": "markdown",
   "metadata": {
    "id": "F21VzFkR83Zj"
   },
   "source": [
    "The above hyper-parameters might be no longer optimal for the newly finetuned speaker segmentation model.\n",
    "\n",
    "`segmentation.threshold` ($\\theta$, between 0 and 1) controls the aggressiveness of speaker activity detection (VAD) (a higher value will result in less detected speech)\n",
    "\n",
    "`clustering.threshold` ($\\delta$, between 0 and 2) controls the number of speakers (a higher value will result in less speakers).\n",
    "\n",
    "`segmentation.min_duration_off` ($\\Delta$, in seconds) controls whether intra-speaker pauses are filled. This usually depends on the downstream application so it is better to first force it to zero (i.e. never fill intra-speaker pauses) during optimization.\n",
    "\n",
    "`clustering.centroid` is the linkage used by the agglomerative clustering step. `centroid` has been found to be slightly better than `average`.\n",
    "\n",
    "`clustering.min_cluster_size` controls what to do with small speaker clusters. Clusters smaller than that are assigned to the most similar large cluster. `15` is a good default value."
   ]
  },
  {
   "cell_type": "code",
   "execution_count": 20,
   "metadata": {},
   "outputs": [
    {
     "name": "stdout",
     "output_type": "stream",
     "text": [
      "Best segmentation threshold so far: 0.14532902063694833\n",
      "Best segmentation threshold so far: 0.630678329814278\n",
      "Best segmentation threshold so far: 0.5764273103219858\n",
      "Best segmentation threshold so far: 0.5764273103219858\n",
      "Best segmentation threshold so far: 0.5764273103219858\n",
      "Best segmentation threshold so far: 0.5764273103219858\n",
      "Best segmentation threshold so far: 0.5764273103219858\n",
      "Best segmentation threshold so far: 0.5764273103219858\n",
      "Best segmentation threshold so far: 0.5764273103219858\n",
      "Best segmentation threshold so far: 0.5764273103219858\n",
      "Best segmentation threshold so far: 0.5764273103219858\n",
      "Best segmentation threshold so far: 0.5764273103219858\n",
      "Best segmentation threshold so far: 0.5764273103219858\n",
      "Best segmentation threshold so far: 0.5764273103219858\n",
      "Best segmentation threshold so far: 0.5764273103219858\n",
      "Best segmentation threshold so far: 0.5764273103219858\n",
      "Best segmentation threshold so far: 0.5764273103219858\n",
      "Best segmentation threshold so far: 0.5764273103219858\n",
      "Best segmentation threshold so far: 0.5764273103219858\n",
      "Best segmentation threshold so far: 0.5764273103219858\n",
      "Best segmentation threshold so far: 0.5764273103219858\n",
      "Best segmentation threshold so far: 0.5764273103219858\n"
     ]
    }
   ],
   "source": [
    "# Optimizing `segmentation.threshold` by assuming that the subsequent clustering step is perfect (`OracleClustering`).\n",
    "from pyannote.audio.pipelines import SpeakerDiarization\n",
    "from pyannote.pipeline import Optimizer\n",
    "\n",
    "pipeline = SpeakerDiarization(\n",
    "    segmentation=finetuned_model,\n",
    "    clustering=\"OracleClustering\",\n",
    ")\n",
    "# as reported in the technical report, min_duration_off can safely be set to 0.0\n",
    "pipeline.freeze({\"segmentation\": {\"min_duration_off\": 0.0}})\n",
    "\n",
    "optimizer = Optimizer(pipeline)\n",
    "dev_set = list(dataset.development())\n",
    "\n",
    "iterations = optimizer.tune_iter(dev_set, show_progress=False)\n",
    "best_loss = 1.0\n",
    "for i, iteration in enumerate(iterations):\n",
    "    print(f\"Best segmentation threshold so far: {iteration['params']['segmentation']['threshold']}\")\n",
    "    if i > 20: break"
   ]
  },
  {
   "cell_type": "code",
   "execution_count": 21,
   "metadata": {
    "colab": {
     "base_uri": "https://localhost:8080/"
    },
    "id": "PNFC7eXG-zNt",
    "outputId": "f3502a8c-6603-41e0-b3ea-e5e21d61c435"
   },
   "outputs": [
    {
     "name": "stdout",
     "output_type": "stream",
     "text": [
      "Best segmentation threshold: 0.5764273103219858\n",
      "Best clustering threshold so far: 1.672845723270305\n",
      "Best clustering threshold so far: 1.672845723270305\n",
      "Best clustering threshold so far: 1.672845723270305\n",
      "Best clustering threshold so far: 1.672845723270305\n",
      "Best clustering threshold so far: 0.7365351775467037\n",
      "Best clustering threshold so far: 0.7365351775467037\n",
      "Best clustering threshold so far: 0.7365351775467037\n",
      "Best clustering threshold so far: 0.7365351775467037\n",
      "Best clustering threshold so far: 0.7365351775467037\n",
      "Best clustering threshold so far: 0.7365351775467037\n",
      "Best clustering threshold so far: 0.7365351775467037\n",
      "Best clustering threshold so far: 0.7365351775467037\n",
      "Best clustering threshold so far: 0.7365351775467037\n",
      "Best clustering threshold so far: 0.7365351775467037\n",
      "Best clustering threshold so far: 0.7365351775467037\n",
      "Best clustering threshold so far: 0.7365351775467037\n",
      "Best clustering threshold so far: 0.7365351775467037\n",
      "Best clustering threshold so far: 0.7365351775467037\n",
      "Best clustering threshold so far: 0.7365351775467037\n",
      "Best clustering threshold so far: 0.7365351775467037\n",
      "Best clustering threshold so far: 0.7365351775467037\n",
      "Best clustering threshold so far: 0.7365351775467037\n"
     ]
    }
   ],
   "source": [
    "# Then, use optimized value of segmentation.threshold to optimize clustering.threshold\n",
    "best_segmentation_threshold = optimizer.best_params[\"segmentation\"][\"threshold\"]\n",
    "print(f\"Best segmentation threshold: {best_segmentation_threshold}\")\n",
    "\n",
    "pipeline = SpeakerDiarization(\n",
    "    segmentation=finetuned_model,\n",
    "    embedding=pretrained_pipeline.embedding,\n",
    "    embedding_exclude_overlap=pretrained_pipeline.embedding_exclude_overlap,\n",
    "    clustering=pretrained_pipeline.klustering,\n",
    ")\n",
    "\n",
    "pipeline.freeze({\n",
    "    \"segmentation\": {\n",
    "        \"threshold\": best_segmentation_threshold,\n",
    "        \"min_duration_off\": 0.0,\n",
    "    },\n",
    "    \"clustering\": {\n",
    "        \"method\": \"centroid\",\n",
    "        \"min_cluster_size\": 15,\n",
    "    },\n",
    "})\n",
    "\n",
    "optimizer = Optimizer(pipeline)\n",
    "iterations = optimizer.tune_iter(dev_set, show_progress=False)\n",
    "best_loss = 1.0\n",
    "for i, iteration in enumerate(iterations):\n",
    "    print(f\"Best clustering threshold so far: {iteration['params']['clustering']['threshold']}\")\n",
    "    if i > 20: break"
   ]
  },
  {
   "cell_type": "code",
   "execution_count": 22,
   "metadata": {
    "colab": {
     "base_uri": "https://localhost:8080/",
     "height": 408
    },
    "id": "k8EUadgt_U19",
    "outputId": "a1e390c7-cd9f-4e9b-da2a-c53477b19467"
   },
   "outputs": [
    {
     "name": "stdout",
     "output_type": "stream",
     "text": [
      "Best segmentation threshold: 0.5764273103219858\n",
      "Best clustering threshold: 0.7365351775467037\n",
      "The finetuned pipeline reaches a Diarization Error Rate (DER) of 66.7% on VOC.SpeakerDiarization.mini test set.\n"
     ]
    }
   ],
   "source": [
    "# Evaluate performance of the fine-tuned pipeline\n",
    "best_clustering_threshold = optimizer.best_params['clustering']['threshold']\n",
    "print(f\"Best segmentation threshold: {best_segmentation_threshold}\")\n",
    "print(f\"Best clustering threshold: {best_clustering_threshold}\")\n",
    "\n",
    "finetuned_pipeline = SpeakerDiarization(\n",
    "    segmentation=finetuned_model,\n",
    "    embedding=pretrained_pipeline.embedding,\n",
    "    embedding_exclude_overlap=pretrained_pipeline.embedding_exclude_overlap,\n",
    "    clustering=pretrained_pipeline.klustering,\n",
    ")\n",
    "\n",
    "finetuned_pipeline.instantiate({\n",
    "    \"segmentation\": {\n",
    "        \"threshold\": best_segmentation_threshold,\n",
    "        \"min_duration_off\": 0.0,\n",
    "    },\n",
    "    \"clustering\": {\n",
    "        \"method\": \"centroid\",\n",
    "        \"min_cluster_size\": 15,\n",
    "        \"threshold\": best_clustering_threshold,\n",
    "    },\n",
    "})\n",
    "\n",
    "metric = DiarizationErrorRate()\n",
    "\n",
    "for file in dataset.test():\n",
    "    # apply finetuned pipeline\n",
    "    file[\"finetuned pipeline\"] = finetuned_pipeline(file)\n",
    "\n",
    "    # evaluate its performance\n",
    "    metric(file[\"annotation\"], file[\"finetuned pipeline\"], uem=file[\"annotated\"])\n",
    "\n",
    "print(f\"The finetuned pipeline reaches a Diarization Error Rate (DER) of {100 * abs(metric):.1f}% on {dataset.name} test set.\")"
   ]
  }
 ],
 "metadata": {
  "colab": {
   "provenance": []
  },
  "kernelspec": {
   "display_name": "Python 3 (ipykernel)",
   "language": "python",
   "name": "python3"
  },
  "language_info": {
   "codemirror_mode": {
    "name": "ipython",
    "version": 3
   },
   "file_extension": ".py",
   "mimetype": "text/x-python",
   "name": "python",
   "nbconvert_exporter": "python",
   "pygments_lexer": "ipython3",
   "version": "3.10.14"
  },
  "widgets": {
   "application/vnd.jupyter.widget-state+json": {
    "9d44f4b78cce48f6a9eda71798f9528f": {
     "model_module": "@jupyter-widgets/output",
     "model_module_version": "1.0.0",
     "model_name": "OutputModel",
     "state": {
      "_dom_classes": [],
      "_model_module": "@jupyter-widgets/output",
      "_model_module_version": "1.0.0",
      "_model_name": "OutputModel",
      "_view_count": null,
      "_view_module": "@jupyter-widgets/output",
      "_view_module_version": "1.0.0",
      "_view_name": "OutputView",
      "layout": "IPY_MODEL_cc51654c5a8a428d98e2984ca5838c75",
      "msg_id": "",
      "outputs": [
       {
        "data": {
         "text/html": "<pre style=\"white-space:pre;overflow-x:auto;line-height:normal;font-family:Menlo,'DejaVu Sans Mono',consolas,'Courier New',monospace\">Epoch 19/19 <span style=\"color: #6206e0; text-decoration-color: #6206e0\">━━━━━━━━━━━━━━━━━━━━━━━━━━━━━━━━━━━</span> <span style=\"color: #c0c0c0; text-decoration-color: #c0c0c0\">1/1</span> <span style=\"color: #8a8a8a; text-decoration-color: #8a8a8a\">0:00:33 • 0:00:00</span> <span style=\"color: #b2b2b2; text-decoration-color: #b2b2b2\">0.00it/s</span> <span style=\"color: #c0c0c0; text-decoration-color: #c0c0c0\">v_num: 0.000 DiarizationErrorRate:  </span>\n                                                                               <span style=\"color: #c0c0c0; text-decoration-color: #c0c0c0\">0.967                               </span>\n                                                                               <span style=\"color: #c0c0c0; text-decoration-color: #c0c0c0\">DiarizationErrorRate/Confusion:     </span>\n                                                                               <span style=\"color: #c0c0c0; text-decoration-color: #c0c0c0\">0.034                               </span>\n                                                                               <span style=\"color: #c0c0c0; text-decoration-color: #c0c0c0\">DiarizationErrorRate/FalseAlarm:    </span>\n                                                                               <span style=\"color: #c0c0c0; text-decoration-color: #c0c0c0\">0.005 DiarizationErrorRate/Miss:    </span>\n                                                                               <span style=\"color: #c0c0c0; text-decoration-color: #c0c0c0\">0.928                               </span>\n                                                                               <span style=\"color: #c0c0c0; text-decoration-color: #c0c0c0\">DiarizationErrorRate/Threshold:     </span>\n                                                                               <span style=\"color: #c0c0c0; text-decoration-color: #c0c0c0\">0.560                               </span>\n</pre>\n",
         "text/plain": "Epoch 19/19 \u001b[38;2;98;6;224m━━━━━━━━━━━━━━━━━━━━━━━━━━━━━━━━━━━\u001b[0m \u001b[37m1/1\u001b[0m \u001b[38;5;245m0:00:33 • 0:00:00\u001b[0m \u001b[38;5;249m0.00it/s\u001b[0m \u001b[37mv_num: 0.000 DiarizationErrorRate:  \u001b[0m\n                                                                               \u001b[37m0.967                               \u001b[0m\n                                                                               \u001b[37mDiarizationErrorRate/Confusion:     \u001b[0m\n                                                                               \u001b[37m0.034                               \u001b[0m\n                                                                               \u001b[37mDiarizationErrorRate/FalseAlarm:    \u001b[0m\n                                                                               \u001b[37m0.005 DiarizationErrorRate/Miss:    \u001b[0m\n                                                                               \u001b[37m0.928                               \u001b[0m\n                                                                               \u001b[37mDiarizationErrorRate/Threshold:     \u001b[0m\n                                                                               \u001b[37m0.560                               \u001b[0m\n"
        },
        "metadata": {},
        "output_type": "display_data"
       }
      ]
     }
    },
    "cc51654c5a8a428d98e2984ca5838c75": {
     "model_module": "@jupyter-widgets/base",
     "model_module_version": "1.2.0",
     "model_name": "LayoutModel",
     "state": {
      "_model_module": "@jupyter-widgets/base",
      "_model_module_version": "1.2.0",
      "_model_name": "LayoutModel",
      "_view_count": null,
      "_view_module": "@jupyter-widgets/base",
      "_view_module_version": "1.2.0",
      "_view_name": "LayoutView",
      "align_content": null,
      "align_items": null,
      "align_self": null,
      "border": null,
      "bottom": null,
      "display": null,
      "flex": null,
      "flex_flow": null,
      "grid_area": null,
      "grid_auto_columns": null,
      "grid_auto_flow": null,
      "grid_auto_rows": null,
      "grid_column": null,
      "grid_gap": null,
      "grid_row": null,
      "grid_template_areas": null,
      "grid_template_columns": null,
      "grid_template_rows": null,
      "height": null,
      "justify_content": null,
      "justify_items": null,
      "left": null,
      "margin": null,
      "max_height": null,
      "max_width": null,
      "min_height": null,
      "min_width": null,
      "object_fit": null,
      "object_position": null,
      "order": null,
      "overflow": null,
      "overflow_x": null,
      "overflow_y": null,
      "padding": null,
      "right": null,
      "top": null,
      "visibility": null,
      "width": null
     }
    }
   }
  }
 },
 "nbformat": 4,
 "nbformat_minor": 4
}
